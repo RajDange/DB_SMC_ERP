{
 "cells": [
  {
   "cell_type": "code",
   "execution_count": 0,
   "metadata": {
    "application/vnd.databricks.v1+cell": {
     "cellMetadata": {
      "byteLimit": 2048000,
      "rowLimit": 10000
     },
     "inputWidgets": {},
     "nuid": "5a4b373d-d99a-469e-99aa-15940ac2f532",
     "showTitle": false,
     "tableResultSettingsMap": {},
     "title": ""
    }
   },
   "outputs": [],
   "source": [
    "from pyspark.sql.functions import *\n",
    "from pyspark.sql.window import Window"
   ]
  },
  {
   "cell_type": "code",
   "execution_count": 0,
   "metadata": {
    "application/vnd.databricks.v1+cell": {
     "cellMetadata": {
      "byteLimit": 2048000,
      "rowLimit": 10000
     },
     "inputWidgets": {},
     "nuid": "15fd87e5-0d7f-45c4-9bc8-243bdca32cc7",
     "showTitle": false,
     "tableResultSettingsMap": {},
     "title": ""
    }
   },
   "outputs": [],
   "source": [
    "df_prod = spark.read.table(\"my_database.my_schema.ext_smc_prod\")\n",
    "df_serv = spark.read.table(\"my_database.my_schema.service_offerings\")"
   ]
  },
  {
   "cell_type": "code",
   "execution_count": 0,
   "metadata": {
    "application/vnd.databricks.v1+cell": {
     "cellMetadata": {
      "byteLimit": 2048000,
      "rowLimit": 10000
     },
     "inputWidgets": {},
     "nuid": "c385f1e3-d070-41f8-86ee-eb9a6ca464f6",
     "showTitle": false,
     "tableResultSettingsMap": {},
     "title": ""
    }
   },
   "outputs": [],
   "source": [
    "total_columns = df_serv.columns\n",
    "for i in range(len(total_columns)):\n",
    "    df_serv = df_serv.withColumnRenamed(total_columns[i],\n",
    "                                  'SOF_' + total_columns[i])"
   ]
  },
  {
   "cell_type": "code",
   "execution_count": 0,
   "metadata": {
    "application/vnd.databricks.v1+cell": {
     "cellMetadata": {
      "byteLimit": 2048000,
      "rowLimit": 10000
     },
     "inputWidgets": {},
     "nuid": "4fa38169-c2e1-4cf8-9394-d5b551ee4c33",
     "showTitle": false,
     "tableResultSettingsMap": {},
     "title": ""
    }
   },
   "outputs": [],
   "source": [
    "joined_data = df_prod.join(df_serv,df_prod.CONTRACT_NUMBER == df_serv.SOF_CONTRACT_NUMBER, how=\"left\")"
   ]
  },
  {
   "cell_type": "code",
   "execution_count": 0,
   "metadata": {
    "application/vnd.databricks.v1+cell": {
     "cellMetadata": {
      "byteLimit": 2048000,
      "rowLimit": 10000
     },
     "inputWidgets": {},
     "nuid": "b7553933-8988-4560-96d2-5f00c9c4bec6",
     "showTitle": false,
     "tableResultSettingsMap": {},
     "title": ""
    }
   },
   "outputs": [],
   "source": [
    "df_a = joined_data.filter(col(\"SOF_Service_Offering_Stand-by\") == \"Y\")\n",
    "df_b = joined_data.filter(col(\"SOF_Service_Offering_365j\") == \"Y\")\n",
    "df_c = joined_data.filter(col(\"SOF_Service_Offering_Preventive_Maintenance_hours\") == \"Y\")\n",
    "df_d = joined_data.filter(col(\"SOF_Service_Offering_Break-fix_hours\") == \"Y\")\n",
    "df_e = joined_data.filter(col(\"SOF_Service_Offering_Sub-contractor_labour\") == \"Y\")\n",
    "df_f = joined_data.filter(col(\"SOF_Service_Offering_Parts\") == \"Y\")\n",
    "df_g = joined_data.filter(col(\"SOF_Service_Offering_Special_agreement\") == \"Y\")\n",
    "df_h = joined_data.filter(col(\"SOF_Service_Offering_Software\") == \"Y\")"
   ]
  },
  {
   "cell_type": "code",
   "execution_count": 0,
   "metadata": {
    "application/vnd.databricks.v1+cell": {
     "cellMetadata": {
      "byteLimit": 2048000,
      "rowLimit": 10000
     },
     "inputWidgets": {},
     "nuid": "66bea619-d0a9-413c-8e21-789aeff677a5",
     "showTitle": false,
     "tableResultSettingsMap": {},
     "title": ""
    }
   },
   "outputs": [],
   "source": [
    "df_a = df_a.withColumn(\"Temp_Serv_Offier_Details\",lit(\"Service_Offering_Stand-by\"))\\\n",
    "            .withColumn(\"INVENTORY_ITEM_ID\",lit(\"900000003\"))\\\n",
    "            .withColumn(\"SMC_Coverage\",lit(\"lkpSO_Coverage_Template_Stand_by\"))\\\n",
    "            .withColumn(\"seq_no\",lit(\"1\"))"
   ]
  },
  {
   "cell_type": "code",
   "execution_count": 0,
   "metadata": {
    "application/vnd.databricks.v1+cell": {
     "cellMetadata": {
      "byteLimit": 2048000,
      "rowLimit": 10000
     },
     "inputWidgets": {},
     "nuid": "96d2714e-0efc-47e3-bf18-7a452eb00921",
     "showTitle": false,
     "tableResultSettingsMap": {},
     "title": ""
    }
   },
   "outputs": [],
   "source": [
    "df_b = df_b.withColumn(\"Temp_Serv_Offier_Details\",lit(\"Service_Offering_365j\"))\\\n",
    "            .withColumn(\"INVENTORY_ITEM_ID\",lit(\"900000001\"))\\\n",
    "            .withColumn(\"SMC_Coverage\",lit(\"lkpSO_Coverage_Template_365j\"))\\\n",
    "            .withColumn(\"seq_no\",lit(\"2\"))"
   ]
  },
  {
   "cell_type": "code",
   "execution_count": 0,
   "metadata": {
    "application/vnd.databricks.v1+cell": {
     "cellMetadata": {
      "byteLimit": 2048000,
      "rowLimit": 10000
     },
     "inputWidgets": {},
     "nuid": "2a773a1a-87a2-4550-b44a-ecbc6dedf40b",
     "showTitle": false,
     "tableResultSettingsMap": {},
     "title": ""
    }
   },
   "outputs": [],
   "source": [
    "df_c = df_c.withColumn(\"Temp_Serv_Offier_Details\",lit(\"Service_Offering_Preventive_Maintenance_hours\"))\\\n",
    "            .withColumn(\"INVENTORY_ITEM_ID\",lit(\"900000000\"))\\\n",
    "            .withColumn(\"SMC_Coverage\",lit(\"lkpSO_Coverage_Template_Prev__Maintenance_hours\"))\\\n",
    "            .withColumn(\"seq_no\",lit(\"3\"))"
   ]
  },
  {
   "cell_type": "code",
   "execution_count": 0,
   "metadata": {
    "application/vnd.databricks.v1+cell": {
     "cellMetadata": {
      "byteLimit": 2048000,
      "rowLimit": 10000
     },
     "inputWidgets": {},
     "nuid": "72b88c51-8933-4535-9c40-977b3603eebe",
     "showTitle": false,
     "tableResultSettingsMap": {},
     "title": ""
    }
   },
   "outputs": [],
   "source": [
    "df_d = df_d.withColumn(\"Temp_Serv_Offier_Details\",lit(\"Service_Offering_Break-fix_hours\"))\\\n",
    "            .withColumn(\"INVENTORY_ITEM_ID\",lit(\"900000001\"))\\\n",
    "            .withColumn(\"SMC_Coverage\",lit(\"lkpSO_Coverage_Template_Break_fix_hours\"))\\\n",
    "            .withColumn(\"seq_no\",lit(\"4\"))"
   ]
  },
  {
   "cell_type": "code",
   "execution_count": 0,
   "metadata": {
    "application/vnd.databricks.v1+cell": {
     "cellMetadata": {
      "byteLimit": 2048000,
      "rowLimit": 10000
     },
     "inputWidgets": {},
     "nuid": "44642762-6447-408a-8f2f-554990777528",
     "showTitle": false,
     "tableResultSettingsMap": {},
     "title": ""
    }
   },
   "outputs": [],
   "source": [
    "df_e = df_e.withColumn(\"Temp_Serv_Offier_Details\",lit(\"Service_Offering_Sub-contractor_labour\"))\\\n",
    "            .withColumn(\"INVENTORY_ITEM_ID\",lit(\"900000005\"))\\\n",
    "            .withColumn(\"SMC_Coverage\",lit(\"lkpSO_Coverage_Template_Sub_contractor_labour\"))\\\n",
    "            .withColumn(\"seq_no\",lit(\"5\"))"
   ]
  },
  {
   "cell_type": "code",
   "execution_count": 0,
   "metadata": {
    "application/vnd.databricks.v1+cell": {
     "cellMetadata": {
      "byteLimit": 2048000,
      "rowLimit": 10000
     },
     "inputWidgets": {},
     "nuid": "fa7367f7-e334-4b7a-9b9a-4a846649de44",
     "showTitle": false,
     "tableResultSettingsMap": {},
     "title": ""
    }
   },
   "outputs": [],
   "source": [
    "df_f = df_f.withColumn(\"Temp_Serv_Offier_Details\",lit(\"Service_Offering_Parts\"))\\\n",
    "            .withColumn(\"INVENTORY_ITEM_ID\",lit(\"900000002\"))\\\n",
    "            .withColumn(\"SMC_Coverage\",lit(\"lkpSO_Coverage_Template_Parts\"))\\\n",
    "            .withColumn(\"seq_no\",lit(\"6\"))"
   ]
  },
  {
   "cell_type": "code",
   "execution_count": 0,
   "metadata": {
    "application/vnd.databricks.v1+cell": {
     "cellMetadata": {
      "byteLimit": 2048000,
      "rowLimit": 10000
     },
     "inputWidgets": {},
     "nuid": "cd2567b8-1fc8-48da-8f5d-595c691991a2",
     "showTitle": false,
     "tableResultSettingsMap": {},
     "title": ""
    }
   },
   "outputs": [],
   "source": [
    "df_g = df_g.withColumn(\"Temp_Serv_Offier_Details\",lit(\"Service_Offering_Special_agreement\"))\\\n",
    "            .withColumn(\"INVENTORY_ITEM_ID\",lit(\"900000008\"))\\\n",
    "            .withColumn(\"SMC_Coverage\",lit(\"lkpSO_Coverage_Template_Special_agreement\"))\\\n",
    "            .withColumn(\"seq_no\",lit(\"7\"))"
   ]
  },
  {
   "cell_type": "code",
   "execution_count": 0,
   "metadata": {
    "application/vnd.databricks.v1+cell": {
     "cellMetadata": {
      "byteLimit": 2048000,
      "rowLimit": 10000
     },
     "inputWidgets": {},
     "nuid": "2f788c27-5303-45ef-8afb-c18b1afb2c55",
     "showTitle": false,
     "tableResultSettingsMap": {},
     "title": ""
    }
   },
   "outputs": [],
   "source": [
    "df_h = df_h.withColumn(\"Temp_Serv_Offier_Details\",lit(\"Service_Offering_Software\"))\\\n",
    "            .withColumn(\"INVENTORY_ITEM_ID\",lit(\"900000004\"))\\\n",
    "            .withColumn(\"SMC_Coverage\",lit(\"lkpSO_Coverage_Template_Software\"))\\\n",
    "            .withColumn(\"seq_no\",lit(\"8\"))"
   ]
  },
  {
   "cell_type": "code",
   "execution_count": 0,
   "metadata": {
    "application/vnd.databricks.v1+cell": {
     "cellMetadata": {
      "byteLimit": 2048000,
      "rowLimit": 10000
     },
     "inputWidgets": {},
     "nuid": "17697583-c463-437b-ba7d-5a8d670424de",
     "showTitle": false,
     "tableResultSettingsMap": {},
     "title": ""
    }
   },
   "outputs": [],
   "source": [
    "\n",
    "df_union = df_a.union(df_b).union(df_c).union(df_d).union(df_e).union(df_f).union(df_g).union(df_h)"
   ]
  },
  {
   "cell_type": "code",
   "execution_count": 0,
   "metadata": {
    "application/vnd.databricks.v1+cell": {
     "cellMetadata": {
      "byteLimit": 2048000,
      "rowLimit": 10000
     },
     "inputWidgets": {},
     "nuid": "74c35793-c003-4d7c-a739-037dec91e6b0",
     "showTitle": false,
     "tableResultSettingsMap": {},
     "title": ""
    }
   },
   "outputs": [],
   "source": [
    "df_sorted = df_union.sort(asc(\"CONTRACT_NUMBER\"), asc(\"seq_no\"))"
   ]
  },
  {
   "cell_type": "code",
   "execution_count": 0,
   "metadata": {
    "application/vnd.databricks.v1+cell": {
     "cellMetadata": {
      "byteLimit": 2048000,
      "rowLimit": 10000
     },
     "inputWidgets": {},
     "nuid": "038e62c6-54c9-4293-b2f4-cca52ee3f5ba",
     "showTitle": false,
     "tableResultSettingsMap": {},
     "title": ""
    }
   },
   "outputs": [],
   "source": [
    "df_window = Window.partitionBy(\"CONTRACT_NUMBER\").orderBy('seq_no')\n",
    "df_with_seq = df_sorted.withColumn('Linenumber', row_number().over(df_window))\n"
   ]
  },
  {
   "cell_type": "code",
   "execution_count": 0,
   "metadata": {
    "application/vnd.databricks.v1+cell": {
     "cellMetadata": {
      "byteLimit": 2048000,
      "rowLimit": 10000
     },
     "inputWidgets": {},
     "nuid": "3c8d9cee-9280-480b-8e0c-3e73e6decaaa",
     "showTitle": false,
     "tableResultSettingsMap": {},
     "title": ""
    }
   },
   "outputs": [],
   "source": [
    "df_ser_desc= spark.read.table(\"my_database.my_schema.service_offering_desc\")\n",
    "df_ser_detail= spark.read.table(\"my_database.my_schema.service_offering_details\")"
   ]
  },
  {
   "cell_type": "code",
   "execution_count": 0,
   "metadata": {
    "application/vnd.databricks.v1+cell": {
     "cellMetadata": {
      "byteLimit": 2048000,
      "rowLimit": 10000
     },
     "inputWidgets": {},
     "nuid": "c1348565-9b7d-44f3-9889-202a60d0df3d",
     "showTitle": false,
     "tableResultSettingsMap": {},
     "title": ""
    }
   },
   "outputs": [],
   "source": [
    "df_ser_desc=df_ser_desc.dropDuplicates(['Item'])\n"
   ]
  },
  {
   "cell_type": "code",
   "execution_count": 0,
   "metadata": {
    "application/vnd.databricks.v1+cell": {
     "cellMetadata": {
      "byteLimit": 2048000,
      "rowLimit": 10000
     },
     "inputWidgets": {},
     "nuid": "060a7a19-edc0-43ba-af74-776e5945e289",
     "showTitle": false,
     "tableResultSettingsMap": {},
     "title": ""
    }
   },
   "outputs": [],
   "source": [
    "\n",
    "df_join_desc = df_with_seq.join(df_ser_desc,df_with_seq.INVENTORY_ITEM_ID == df_ser_desc.Item , how=\"left\")\n"
   ]
  },
  {
   "cell_type": "code",
   "execution_count": 0,
   "metadata": {
    "application/vnd.databricks.v1+cell": {
     "cellMetadata": {
      "byteLimit": 2048000,
      "rowLimit": 10000
     },
     "inputWidgets": {},
     "nuid": "64926ea3-0f9e-4825-9f64-db442b1d1972",
     "showTitle": false,
     "tableResultSettingsMap": {},
     "title": ""
    }
   },
   "outputs": [],
   "source": [
    "df_join_final = df_join_desc.join(df_ser_detail,df_join_desc.Temp_Serv_Offier_Details == df_ser_detail.Legacy_service_offering , how=\"left\")"
   ]
  },
  {
   "cell_type": "code",
   "execution_count": 0,
   "metadata": {
    "application/vnd.databricks.v1+cell": {
     "cellMetadata": {
      "byteLimit": 2048000,
      "rowLimit": 10000
     },
     "inputWidgets": {},
     "nuid": "8c5e25d9-ac3d-401f-9bff-92c6f50bf585",
     "showTitle": false,
     "tableResultSettingsMap": {},
     "title": ""
    }
   },
   "outputs": [],
   "source": [
    "df_join_final=df_join_final.withColumn(\"XX_OSS_ServiceOfferingDescription_c\",col(\"Description\")).withColumn(\"XX_OSS_Service_Offering_Details_c\",col(\"SMC_Service_Offering_Details\")).withColumn(\"SRC_ORIGINAL_PRICE\",col(\"ORIGINAL_PRICE\"))"
   ]
  },
  {
   "cell_type": "code",
   "execution_count": 0,
   "metadata": {
    "application/vnd.databricks.v1+cell": {
     "cellMetadata": {
      "byteLimit": 2048000,
      "rowLimit": 10000
     },
     "inputWidgets": {},
     "nuid": "455fea0f-f1eb-40ce-bf91-4b11741cb8d0",
     "showTitle": false,
     "tableResultSettingsMap": {},
     "title": ""
    }
   },
   "outputs": [],
   "source": [
    "required_columns = [\"Linenumber\",\"XX_OSS_ServiceOfferingDescription_c\",\"INVENTORY_ITEM_ID\",\"SMC_Coverage\",\"CONTRACT_NUMBER\",\"NAME\",\"ORG_ID\",\"ORIGINAL_PRICE\",\"BILL_TO_SITE_USE_ID\",\"END_DATE\",\"EXTN_ATTRIBUTE_CHAR003\",\"BILL_TO_ACCT_ID\",\"SERVICE_OFFERINGS\",\"EXT_INVENTORY_ITEM_ID\",\"DFF1_S_BILLING_TIMING\",\"PROJECT_STATUS_CODE\",\"JCI_BRANCH_NUMBER\",\"OUTPUT_TAX_CLASSIFICATION\",\"DFF1_S_BILLING_METHOD\",\"SRC_ORIGINAL_PRICE\",\"XX_OSS_Service_Offering_Details_c\"\n",
    "]  # Replace with your actual FBDI template order\n",
    "\n",
    "# Reorder/select columns\n",
    "df_join_final = df_join_final.select(required_columns)"
   ]
  },
  {
   "cell_type": "code",
   "execution_count": 0,
   "metadata": {
    "application/vnd.databricks.v1+cell": {
     "cellMetadata": {
      "byteLimit": 2048000,
      "rowLimit": 10000
     },
     "inputWidgets": {},
     "nuid": "94b3cd13-1bf9-4017-87c0-206b2726b046",
     "showTitle": false,
     "tableResultSettingsMap": {},
     "title": ""
    }
   },
   "outputs": [],
   "source": [
    "df_join_final.write.mode('overwrite').option(\"mergeSchema\",\"true\").saveAsTable(\"my_database.my_schema.Tgt_SMC_integarte_int\")"
   ]
  }
 ],
 "metadata": {
  "application/vnd.databricks.v1+notebook": {
   "computePreferences": null,
   "dashboards": [],
   "environmentMetadata": {
    "base_environment": "",
    "environment_version": "2"
   },
   "inputWidgetPreferences": null,
   "language": "python",
   "notebookMetadata": {
    "pythonIndentUnit": 4
   },
   "notebookName": "m_SMC_Intermidiate_file",
   "widgets": {}
  },
  "language_info": {
   "name": "python"
  }
 },
 "nbformat": 4,
 "nbformat_minor": 0
}
